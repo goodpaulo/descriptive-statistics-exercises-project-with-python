{
    "cells": [
        {
            "cell_type": "markdown",
            "id": "ac622319",
            "metadata": {},
            "source": [
                "# Descriptive statistics problems"
            ]
        },
        {
            "cell_type": "markdown",
            "id": "5e0ab0d5",
            "metadata": {},
            "source": [
                "### Exercise 1\n",
                "\n",
                "We will use NumPy to obtain information to describe statistically.\n",
                "\n",
                "- Generate an array of 100 elements following a normal distribution.\n",
                "- Generate an array of 100 elements following a chi-square distribution with 3 degrees of freedom.\n",
                "- Calculate the main metrics and statistical measures that best describe the two vectors."
            ]
        },
        {
            "cell_type": "code",
            "execution_count": 11,
            "id": "34720ab6",
            "metadata": {},
            "outputs": [
                {
                    "name": "stdout",
                    "output_type": "stream",
                    "text": [
                        "Normal array: [-1.55719046  1.30886888  0.93475127 -0.0616751   0.10294223  1.43706268\n",
                        "  0.28257279  1.3603205   1.73939647 -0.44877077  0.40991986  0.37029296\n",
                        " -1.7292891  -0.90763605  0.94713128 -2.36687998  1.86373529  1.01106927\n",
                        "  1.04541605  1.24018628 -0.76475102  0.11137517 -1.20002307  1.01701676\n",
                        "  1.30441689 -0.99243313  0.76016914 -0.93734457 -0.85025619 -0.22444635\n",
                        " -1.1912564   0.83874744 -0.49119169  0.44173707  1.25777767  0.23606633\n",
                        "  0.38566614 -1.0493409  -0.27105084  0.64295549  1.06383702  0.79030973\n",
                        " -0.44210473 -0.27243392  0.80723843 -0.2363899  -0.46758592  1.25853061\n",
                        "  1.00322151  1.09307562 -1.26072572  1.51490516  1.97569717  1.10537495\n",
                        " -1.88405849 -0.65893021 -0.18919246  0.87387949 -1.23755784 -1.69919175\n",
                        "  1.80882876 -1.52094213  0.43631972 -0.94311255 -1.01257705  1.15131622\n",
                        " -1.22494959  0.0364204  -0.27968796 -0.72696144  0.61699494  0.91090483\n",
                        " -0.57360439 -0.64725986 -0.23330392  0.27768082  0.43840347  0.89616319\n",
                        "  0.19199679  0.4451306   0.34307321  0.99592776  0.12001793  0.29618955\n",
                        " -0.33767165 -2.60469171 -0.11005251 -0.6618524  -0.97724512  0.43216825\n",
                        " -0.34997507  1.84043355 -1.00252456  0.10926197  1.5853548  -1.16289511\n",
                        " -1.07188838  0.59078747  0.05242944 -0.48325827]\n",
                        "Chi array: [ 4.26002385  2.75740354  3.93161747  4.61586182  2.94150712  2.09781126\n",
                        "  3.41262904  0.99166041  4.64757775  3.25726246  1.18407792  4.18001573\n",
                        "  1.41225488  0.37252997  2.70931618 10.54783108  5.82074062  4.58924265\n",
                        "  0.34889805  0.52570759  1.50042734  2.35483707  5.4737684   1.1188227\n",
                        "  1.58084803  5.3792333   3.36752254  2.013159    0.14997454  0.38209486\n",
                        "  2.47539308  0.80192599  2.96484264  0.51220705  3.51919793  4.21731673\n",
                        "  2.57655212  4.11719562  5.37016825  1.28995447  0.62715783  2.57478659\n",
                        " 10.36307634  1.86366214  2.01836907  5.2249402   1.1910614   3.79673949\n",
                        "  3.22488966  1.10876525  4.5317745   6.12272319  2.23697843  1.87166045\n",
                        "  1.77993333  2.02389769  2.09682487  0.26808771  0.8755075   1.67631181\n",
                        "  2.13449159  0.64149602  2.25104675  4.74901765  2.5747457   1.26176127\n",
                        "  6.78933886  2.44421287  5.74967396  4.67821379  1.428331    1.67115865\n",
                        "  7.39875378  1.40659261  2.38879591  4.15888537  0.83569013  1.63800346\n",
                        "  1.06677469  2.39299774  4.19479087  1.89217717  8.52605997  3.0954985\n",
                        "  0.55226701  4.68403027 12.34459052  1.06067185  0.87994407  4.87635848\n",
                        " 11.35368594  4.30044232  3.27412316  0.09464688  1.01037104  2.14314738\n",
                        "  0.80312301  7.51659321  2.42643106  4.14932963]\n",
                        "Mean of normal: 0.06795307051507338\n",
                        "Median of normal: 0.115696548847904\n",
                        "Variance of normal: 1.0267564408143193\n",
                        "Standard Deviation of normal: 1.0132899095591148\n",
                        "Mode of normal: -1.5571904586638055\n",
                        "Range of normal: 4.580388878412641\n",
                        "Skew of normal: -0.24802498959223096\n",
                        "Kurtosis of normal: -0.5831919502544376\n",
                        "\n",
                        "Mean of chi: 3.080848226576947\n",
                        "Median of chi: 2.4097144022644525\n",
                        "Variance of chi: 6.012319248798601\n",
                        "Standard Deviation of chi: 2.4520031094594072\n",
                        "Mode of chi: 4.260023846146133\n",
                        "Range of chi: 12.249943635496628\n",
                        "Skew of chi: 1.5683383611408805\n",
                        "Kurtosis of chi: 2.82518890122582\n"
                    ]
                }
            ],
            "source": [
                "# TODO\n",
                "import numpy as np\n",
                "import statistics as stats\n",
                "from scipy.stats import skew\n",
                "from scipy.stats import kurtosis\n",
                "\n",
                "normal_array = np.random.standard_normal(100)\n",
                "chi_array = np.random.chisquare(3, 100)\n",
                "print(f\"Normal array: {normal_array}\")\n",
                "print(f\"Chi array: {chi_array}\")\n",
                "\n",
                "chi_mean = np.mean(chi_array)\n",
                "chi_median = np.median(chi_array)\n",
                "chi_variance = np.var(chi_array)\n",
                "chi_std = np.std(chi_array)\n",
                "chi_mode = stats.mode(chi_array)\n",
                "chi_range = max(chi_array) - min(chi_array)\n",
                "chi_skew = skew(chi_array)\n",
                "chi_kurtosis = kurtosis(chi_array)\n",
                "\n",
                "\n",
                "normal_mean = np.mean(normal_array)\n",
                "normal_median = np.median(normal_array)\n",
                "normal_variance = np.var(normal_array)\n",
                "normal_std = np.std(normal_array)\n",
                "normal_mode = stats.mode(normal_array)\n",
                "normal_range = max(normal_array) - min(normal_array)\n",
                "normal_skew = skew(normal_array)\n",
                "normal_kurtosis = kurtosis(normal_array)\n",
                "\n",
                "print(f\"Mean of normal: {normal_mean}\")\n",
                "print(f\"Median of normal: {normal_median}\")\n",
                "print(f\"Variance of normal: {normal_variance}\")\n",
                "print(f\"Standard Deviation of normal: {normal_std}\")\n",
                "print(f\"Mode of normal: {normal_mode}\")\n",
                "print(f\"Range of normal: {normal_range}\")\n",
                "print(f\"Skew of normal: {normal_skew}\")\n",
                "print(f\"Kurtosis of normal: {normal_kurtosis}\\n\")\n",
                "\n",
                "print(f\"Mean of chi: {chi_mean}\")\n",
                "print(f\"Median of chi: {chi_median}\")\n",
                "print(f\"Variance of chi: {chi_variance}\")\n",
                "print(f\"Standard Deviation of chi: {chi_std}\")\n",
                "print(f\"Mode of chi: {chi_mode}\")\n",
                "print(f\"Range of chi: {chi_range}\")\n",
                "print(f\"Skew of chi: {chi_skew}\")\n",
                "print(f\"Kurtosis of chi: {chi_kurtosis}\")\n",
                "\n"
            ]
        },
        {
            "cell_type": "markdown",
            "id": "46c70c3d",
            "metadata": {},
            "source": [
                "### Exercise 2\n",
                "\n",
                "Write a Python program to calculate the standard deviation of the following data:\n",
                "\n",
                "```py\n",
                "data = [4, 2, 5, 8, 6]\n",
                "```"
            ]
        },
        {
            "cell_type": "code",
            "execution_count": 13,
            "id": "d590308e",
            "metadata": {},
            "outputs": [
                {
                    "name": "stdout",
                    "output_type": "stream",
                    "text": [
                        "2.23606797749979\n"
                    ]
                }
            ],
            "source": [
                "# TODO\n",
                "import numpy as np\n",
                "import math\n",
                "\n",
                "data = [4,2,5,8,6]\n",
                "n = len(data)\n",
                "\n",
                "mean = sum(data) / n\n",
                "\n",
                "variance = sum((x - mean) ** 2 for x in data) / (n - 1)  \n",
                "\n",
                "std_dev = math.sqrt(variance)\n",
                "\n",
                "print(std_dev)"
            ]
        }
    ],
    "metadata": {
        "interpreter": {
            "hash": "9248718ffe6ce6938b217e69dbcc175ea21f4c6b28a317e96c05334edae734bb"
        },
        "kernelspec": {
            "display_name": "Python 3.9.12 ('ML-BOOTCAMP')",
            "language": "python",
            "name": "python3"
        },
        "language_info": {
            "codemirror_mode": {
                "name": "ipython",
                "version": 3
            },
            "file_extension": ".py",
            "mimetype": "text/x-python",
            "name": "python",
            "nbconvert_exporter": "python",
            "pygments_lexer": "ipython3",
            "version": "3.11.4"
        }
    },
    "nbformat": 4,
    "nbformat_minor": 5
}
