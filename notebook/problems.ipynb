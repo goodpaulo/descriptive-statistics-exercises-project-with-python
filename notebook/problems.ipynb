{
    "cells": [
        {
            "cell_type": "markdown",
            "id": "ac622319",
            "metadata": {},
            "source": [
                "# Descriptive statistics problems"
            ]
        },
        {
            "cell_type": "markdown",
            "id": "5e0ab0d5",
            "metadata": {},
            "source": [
                "### Exercise 1\n",
                "\n",
                "We will use NumPy to obtain information to describe statistically.\n",
                "\n",
                "- Generate an array of 100 elements following a normal distribution.\n",
                "- Generate an array of 100 elements following a chi-square distribution with 3 degrees of freedom.\n",
                "- Calculate the main metrics and statistical measures that best describe the two vectors."
            ]
        },
        {
            "cell_type": "code",
            "execution_count": 7,
            "id": "34720ab6",
            "metadata": {},
            "outputs": [
                {
                    "name": "stdout",
                    "output_type": "stream",
                    "text": [
                        "Normal array: [-0.15274575  0.07510515 -0.98265244 -0.41094106  1.24072298  0.21877562\n",
                        " -0.28598277 -1.5235059   0.96514661  0.3815966   1.04762026  0.80889016\n",
                        " -1.59057714  0.51906893  0.64261797  1.08076548 -0.8718376  -0.39417518\n",
                        " -0.01273578 -1.62921653  0.58778332 -0.07526044 -1.72613776  0.81678213\n",
                        "  0.65533095  0.13969533 -1.72354466  1.75395532  1.69941668 -1.98345235\n",
                        " -0.80862998  0.06673704  0.62282558 -0.60725627  0.57705639  0.33246263\n",
                        " -0.67131135 -0.82606849 -0.97585255  0.65065552 -0.20753651 -1.87052465\n",
                        " -0.61567024  0.98447042 -1.88053716  0.95999654 -1.95459732  0.51076511\n",
                        "  1.22858229  1.47735051  0.18965385  1.48039251 -2.10818428  0.41147589\n",
                        "  0.33369886 -0.45940858  1.80010833  0.3920433   1.99939754 -0.92995854\n",
                        " -1.04964733 -1.28536699 -1.36437947 -0.57589184 -1.25541566  1.60810885\n",
                        "  0.05133201  0.37069164  0.04079233  0.47253841 -1.06623597  0.31553693\n",
                        " -0.87809703 -1.35860891 -0.64089049  2.16511362  1.52864374 -0.13507077\n",
                        " -0.28410795 -0.00248628  0.11848033  0.61060131 -0.52073787  1.33092832\n",
                        " -1.35841339 -1.3217924   0.2164016  -0.11297385 -0.16885001  1.9025651\n",
                        " -0.83368381 -0.25569406 -0.92048602 -0.63394406 -1.28479151 -0.64447978\n",
                        " -0.89457723  1.92441876  0.59717352  0.97317716]\n",
                        "Chi array: [ 2.72367334  4.03883482  2.82351459  4.032595    8.44210029  3.5084949\n",
                        "  1.25691779 11.77631973  4.98944907  1.24570474 10.22680013  2.32338277\n",
                        "  0.59054344  4.8087466   1.95236461  2.47956859  1.07474685  2.77296026\n",
                        "  1.81020451  1.54663541  1.16667374  1.90560897  2.39203072  0.07946335\n",
                        "  4.80694997  6.75191924  1.50510913  0.82412849  1.55247656  2.0198565\n",
                        "  2.34922538  5.88372568  2.57499176  4.1522648   2.63134613  4.83385902\n",
                        "  0.62916122  3.37359047  0.85251263  3.75499755 13.57384183  7.0413334\n",
                        "  2.44631946  2.38405358  1.56314919  2.11982941  1.09540148  5.16103311\n",
                        "  1.16028864  1.7966705   5.33059346  1.59584028  0.49307053  5.28413723\n",
                        "  3.3187686   2.10229553  4.20854271  3.37038107  1.76750311  3.92070172\n",
                        "  0.04343014  2.61677872  2.75102387  4.47763777  3.6406712   0.92255798\n",
                        "  1.40006047  4.75958876  2.44333081  2.23044464  1.7473557   3.36767253\n",
                        "  0.60488894  2.76087071  1.85302118  3.68700575  1.70688142  1.78349931\n",
                        "  6.08841794  8.97549164  3.52851077  3.16915574  5.32634121  3.30722809\n",
                        "  1.04786794  1.13543566  0.78177058  1.58732178  0.329123    1.54427847\n",
                        "  0.65977758  2.45202332  4.18530439  2.18381027  4.26035243  0.76200383\n",
                        "  4.82388972  2.29710722  0.34308643  0.65124586]\n",
                        "Mean of normal: -0.05247474540372123\n",
                        "Median of normal: -0.00761103172288894\n",
                        "Variance of normal: 1.1035662306613323\n",
                        "Standard Deviation of normal: 1.0505076061891852\n",
                        "Mode of normal: -0.1527457542705869\n",
                        "Range of normal: 4.2732979009225325\n",
                        "Skew of normal: 0.068850082380593\n",
                        "Kurtosis of normal: -0.7534675400143138\n",
                        "Mean of chi: 3.00433467312732\n",
                        "Median of chi: 2.4176807633687574\n",
                        "Variance of chi: 5.6393694703446124\n",
                        "Standard Deviation of chi: 2.374735663256989\n",
                        "Mode of chi: 2.7236733411952834\n",
                        "Range of chi: 13.530411680978686\n",
                        "Skew of chi: 1.9078080875117338\n",
                        "Kurtosis of chi: 4.798680634785719\n"
                    ]
                }
            ],
            "source": [
                "# TODO\n",
                "import numpy as np\n",
                "import statistics as stats\n",
                "from scipy.stats import skew\n",
                "from scipy.stats import kurtosis\n",
                "\n",
                "normal_array = np.random.standard_normal(100)\n",
                "chi_array = np.random.chisquare(3, 100)\n",
                "print(f\"Normal array: {normal_array}\")\n",
                "print(f\"Chi array: {chi_array}\")\n",
                "\n",
                "chi_mean = np.mean(chi_array)\n",
                "chi_median = np.median(chi_array)\n",
                "chi_variance = np.var(chi_array)\n",
                "chi_std = np.std(chi_array)\n",
                "chi_mode = stats.mode(chi_array)\n",
                "chi_range = max(chi_array) - min(chi_array)\n",
                "chi_skew = skew(chi_array)\n",
                "chi_kurtosis = kurtosis(chi_array)\n",
                "\n",
                "\n",
                "normal_mean = np.mean(normal_array)\n",
                "normal_median = np.median(normal_array)\n",
                "normal_variance = np.var(normal_array)\n",
                "normal_std = np.std(normal_array)\n",
                "normal_mode = stats.mode(normal_array)\n",
                "normal_range = max(normal_array) - min(normal_array)\n",
                "normal_skew = skew(normal_array)\n",
                "normal_kurtosis = kurtosis(normal_array)\n",
                "\n",
                "print(f\"Mean of normal: {normal_mean}\")\n",
                "print(f\"Median of normal: {normal_median}\")\n",
                "print(f\"Variance of normal: {normal_variance}\")\n",
                "print(f\"Standard Deviation of normal: {normal_std}\")\n",
                "print(f\"Mode of normal: {normal_mode}\")\n",
                "print(f\"Range of normal: {normal_range}\")\n",
                "print(f\"Skew of normal: {normal_skew}\")\n",
                "print(f\"Kurtosis of normal: {normal_kurtosis}\")\n",
                "\n",
                "print(f\"Mean of chi: {chi_mean}\")\n",
                "print(f\"Median of chi: {chi_median}\")\n",
                "print(f\"Variance of chi: {chi_variance}\")\n",
                "print(f\"Standard Deviation of chi: {chi_std}\")\n",
                "print(f\"Mode of chi: {chi_mode}\")\n",
                "print(f\"Range of chi: {chi_range}\")\n",
                "print(f\"Skew of chi: {chi_skew}\")\n",
                "print(f\"Kurtosis of chi: {chi_kurtosis}\")\n",
                "\n"
            ]
        },
        {
            "cell_type": "markdown",
            "id": "46c70c3d",
            "metadata": {},
            "source": [
                "### Exercise 2\n",
                "\n",
                "Write a Python program to calculate the standard deviation of the following data:\n",
                "\n",
                "```py\n",
                "data = [4, 2, 5, 8, 6]\n",
                "```"
            ]
        },
        {
            "cell_type": "code",
            "execution_count": 4,
            "id": "d590308e",
            "metadata": {},
            "outputs": [
                {
                    "name": "stdout",
                    "output_type": "stream",
                    "text": [
                        "2.0\n"
                    ]
                }
            ],
            "source": [
                "# TODO\n",
                "import numpy as np\n",
                "\n",
                "data = [4,2,5,8,6]\n",
                "\n",
                "data_std = np.std(data)\n",
                "\n",
                "print(data_std)"
            ]
        }
    ],
    "metadata": {
        "interpreter": {
            "hash": "9248718ffe6ce6938b217e69dbcc175ea21f4c6b28a317e96c05334edae734bb"
        },
        "kernelspec": {
            "display_name": "Python 3.9.12 ('ML-BOOTCAMP')",
            "language": "python",
            "name": "python3"
        },
        "language_info": {
            "codemirror_mode": {
                "name": "ipython",
                "version": 3
            },
            "file_extension": ".py",
            "mimetype": "text/x-python",
            "name": "python",
            "nbconvert_exporter": "python",
            "pygments_lexer": "ipython3",
            "version": "3.11.4"
        }
    },
    "nbformat": 4,
    "nbformat_minor": 5
}
