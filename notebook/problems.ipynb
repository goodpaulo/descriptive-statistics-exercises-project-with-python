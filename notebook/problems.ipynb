{
    "cells": [
        {
            "cell_type": "markdown",
            "id": "ac622319",
            "metadata": {},
            "source": [
                "# Descriptive statistics problems"
            ]
        },
        {
            "cell_type": "markdown",
            "id": "5e0ab0d5",
            "metadata": {},
            "source": [
                "### Exercise 1\n",
                "\n",
                "We will use NumPy to obtain information to describe statistically.\n",
                "\n",
                "- Generate an array of 100 elements following a normal distribution.\n",
                "- Generate an array of 100 elements following a chi-square distribution with 3 degrees of freedom.\n",
                "- Calculate the main metrics and statistical measures that best describe the two vectors."
            ]
        },
        {
            "cell_type": "code",
            "execution_count": 8,
            "id": "34720ab6",
            "metadata": {},
            "outputs": [
                {
                    "name": "stdout",
                    "output_type": "stream",
                    "text": [
                        "Normal array: [ 0.01770965 -1.0969338   0.46480373 -0.1381137  -0.2229884  -0.2115291\n",
                        "  0.61952186 -1.06113401  0.50069882 -0.22129836  0.93018327  0.58789474\n",
                        " -0.88342905  0.76544955  0.78170792  0.25053573 -1.09028939  2.71395623\n",
                        " -0.95881666  1.06973942 -0.61194854 -0.1223511  -0.14108462  1.8192476\n",
                        " -0.3912721  -0.58885211  1.34755161 -0.44309945  0.09661203  0.58140848\n",
                        "  1.08147197  0.11075758 -1.49091153 -0.89250441  0.28192163 -1.67966715\n",
                        "  1.33966537 -0.61065064 -1.32364696 -1.42598159 -1.12393518  0.55419726\n",
                        "  0.14265862 -1.16606754  1.06046771 -0.51495645 -0.6249047   1.32079552\n",
                        " -0.35528459 -1.07310029 -0.88103967  0.68627388 -0.33185484  0.7995995\n",
                        "  0.31119651 -1.31879405  0.31902374 -3.41263891  0.2057123  -0.15516512\n",
                        " -0.58219254  0.12047494 -0.34869606  1.28668487 -0.61888255 -0.16058325\n",
                        " -0.27440406 -0.53579094 -0.57780783  0.26411658 -1.89317807  0.38370283\n",
                        " -0.87863392  0.16842759 -1.17012291  0.0540569  -0.11162762 -0.87203418\n",
                        "  0.51634907 -0.13173873  1.01443382  0.30926371 -0.4623078   1.00707726\n",
                        " -0.19605847  0.02352819 -0.79207181  1.83196796 -0.73221627 -0.55033822\n",
                        "  1.01969982  0.23785259  1.84617358  0.29449775  0.41447018 -0.17454267\n",
                        "  1.0968628  -0.84495539  0.7616596  -0.40927025]\n",
                        "Chi array: [3.20237504 1.82705966 5.0219831  0.47974883 7.97796139 0.74464667\n",
                        " 0.3331043  2.00659193 0.2543412  3.73939021 4.26997216 1.16461092\n",
                        " 4.9553027  0.71136824 1.40788648 0.16456678 3.38765976 7.29887145\n",
                        " 1.74961426 3.92870907 2.07127586 0.86526896 7.20814967 1.39207126\n",
                        " 2.55238187 1.35428417 4.62204966 5.04695612 2.56208767 0.98809411\n",
                        " 1.24336573 2.50896629 1.08085867 1.38347002 5.91402152 3.65665675\n",
                        " 9.16986566 6.55855101 1.07952713 3.17522277 2.1154114  4.08395042\n",
                        " 2.55791788 2.73651814 5.60859564 0.37782047 5.49530904 3.64124064\n",
                        " 3.98417915 1.11156476 1.36026406 1.62866545 4.02898927 2.72037978\n",
                        " 2.61773193 7.09544084 3.54663112 0.88019086 2.77615126 1.46207573\n",
                        " 4.26683405 4.37388721 0.79332617 1.95670081 2.90044024 6.16771992\n",
                        " 2.81496045 2.55590133 1.74249341 4.71841945 2.53256667 0.71220418\n",
                        " 2.87952909 0.41980541 2.07188786 5.43728317 3.33471258 1.30792598\n",
                        " 2.66785808 0.82710508 3.84332352 0.9814608  4.72197706 1.68995153\n",
                        " 1.81492971 3.6158547  2.69479682 0.50538436 6.4073893  2.05117413\n",
                        " 1.24815276 2.26972706 5.05062744 1.08889037 2.99222367 2.96537345\n",
                        " 7.98266896 0.85629359 2.52676899 3.21902229]\n",
                        "Mean of normal: -0.05469635265438426\n",
                        "Median of normal: -0.13492621482235254\n",
                        "Variance of normal: 0.8488464533528594\n",
                        "Standard Deviation of normal: 0.9213286348273668\n",
                        "Mode of normal: 0.017709654777111394\n",
                        "Range of normal: 6.126595145921151\n",
                        "Skew of normal: -0.07334365333723072\n",
                        "Kurtosis of normal: 1.138126488228175\n",
                        "\n",
                        "Mean of chi: 2.9189546850754287\n",
                        "Median of chi: 2.560002771774694\n",
                        "Variance of chi: 3.947377599601736\n",
                        "Standard Deviation of chi: 1.9868008454804262\n",
                        "Mode of chi: 3.2023750369264556\n",
                        "Range of chi: 9.005298876584925\n",
                        "Skew of chi: 0.9250732964922945\n",
                        "Kurtosis of chi: 0.36713975408122757\n"
                    ]
                }
            ],
            "source": [
                "# TODO\n",
                "import numpy as np\n",
                "import statistics as stats\n",
                "from scipy.stats import skew\n",
                "from scipy.stats import kurtosis\n",
                "\n",
                "normal_array = np.random.standard_normal(100)\n",
                "chi_array = np.random.chisquare(3, 100)\n",
                "print(f\"Normal array: {normal_array}\")\n",
                "print(f\"Chi array: {chi_array}\")\n",
                "\n",
                "chi_mean = np.mean(chi_array)\n",
                "chi_median = np.median(chi_array)\n",
                "chi_variance = np.var(chi_array)\n",
                "chi_std = np.std(chi_array)\n",
                "chi_mode = stats.mode(chi_array)\n",
                "chi_range = max(chi_array) - min(chi_array)\n",
                "chi_skew = skew(chi_array)\n",
                "chi_kurtosis = kurtosis(chi_array)\n",
                "\n",
                "\n",
                "normal_mean = np.mean(normal_array)\n",
                "normal_median = np.median(normal_array)\n",
                "normal_variance = np.var(normal_array)\n",
                "normal_std = np.std(normal_array)\n",
                "normal_mode = stats.mode(normal_array)\n",
                "normal_range = max(normal_array) - min(normal_array)\n",
                "normal_skew = skew(normal_array)\n",
                "normal_kurtosis = kurtosis(normal_array)\n",
                "\n",
                "print(f\"Mean of normal: {normal_mean}\")\n",
                "print(f\"Median of normal: {normal_median}\")\n",
                "print(f\"Variance of normal: {normal_variance}\")\n",
                "print(f\"Standard Deviation of normal: {normal_std}\")\n",
                "print(f\"Mode of normal: {normal_mode}\")\n",
                "print(f\"Range of normal: {normal_range}\")\n",
                "print(f\"Skew of normal: {normal_skew}\")\n",
                "print(f\"Kurtosis of normal: {normal_kurtosis}\\n\")\n",
                "\n",
                "print(f\"Mean of chi: {chi_mean}\")\n",
                "print(f\"Median of chi: {chi_median}\")\n",
                "print(f\"Variance of chi: {chi_variance}\")\n",
                "print(f\"Standard Deviation of chi: {chi_std}\")\n",
                "print(f\"Mode of chi: {chi_mode}\")\n",
                "print(f\"Range of chi: {chi_range}\")\n",
                "print(f\"Skew of chi: {chi_skew}\")\n",
                "print(f\"Kurtosis of chi: {chi_kurtosis}\")\n",
                "\n"
            ]
        },
        {
            "cell_type": "markdown",
            "id": "46c70c3d",
            "metadata": {},
            "source": [
                "### Exercise 2\n",
                "\n",
                "Write a Python program to calculate the standard deviation of the following data:\n",
                "\n",
                "```py\n",
                "data = [4, 2, 5, 8, 6]\n",
                "```"
            ]
        },
        {
            "cell_type": "code",
            "execution_count": 4,
            "id": "d590308e",
            "metadata": {},
            "outputs": [
                {
                    "name": "stdout",
                    "output_type": "stream",
                    "text": [
                        "2.0\n"
                    ]
                }
            ],
            "source": [
                "# TODO\n",
                "import numpy as np\n",
                "\n",
                "data = [4,2,5,8,6]\n",
                "\n",
                "data_std = np.std(data)\n",
                "\n",
                "print(data_std)"
            ]
        }
    ],
    "metadata": {
        "interpreter": {
            "hash": "9248718ffe6ce6938b217e69dbcc175ea21f4c6b28a317e96c05334edae734bb"
        },
        "kernelspec": {
            "display_name": "Python 3.9.12 ('ML-BOOTCAMP')",
            "language": "python",
            "name": "python3"
        },
        "language_info": {
            "codemirror_mode": {
                "name": "ipython",
                "version": 3
            },
            "file_extension": ".py",
            "mimetype": "text/x-python",
            "name": "python",
            "nbconvert_exporter": "python",
            "pygments_lexer": "ipython3",
            "version": "3.11.4"
        }
    },
    "nbformat": 4,
    "nbformat_minor": 5
}
